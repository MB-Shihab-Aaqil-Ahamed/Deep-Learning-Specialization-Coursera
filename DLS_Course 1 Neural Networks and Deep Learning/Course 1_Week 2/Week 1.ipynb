{
 "cells": [
  {
   "cell_type": "code",
   "execution_count": 1,
   "id": "d589c714",
   "metadata": {},
   "outputs": [
    {
     "name": "stdout",
     "output_type": "stream",
     "text": [
      "[1 2 3 4]\n"
     ]
    }
   ],
   "source": [
    "import numpy as np\n",
    "\n",
    "a = np.array([1, 2, 3, 4])\n",
    "print(a)"
   ]
  },
  {
   "cell_type": "code",
   "execution_count": 3,
   "id": "e43d3672",
   "metadata": {},
   "outputs": [
    {
     "name": "stdout",
     "output_type": "stream",
     "text": [
      "250093.10903786987\n",
      "Vectorized version: 1.9381046295166016ms\n",
      "250093.10903788506\n",
      "For loop: 381.09469413757324ms\n"
     ]
    }
   ],
   "source": [
    "import time\n",
    "\n",
    "a = np.random.rand(1000000)\n",
    "b = np.random.rand(1000000)\n",
    "\n",
    "tic = time.time()\n",
    "c = np.dot(a, b)\n",
    "toc = time.time()\n",
    "\n",
    "print(c)\n",
    "print(\"Vectorized version: \" + str(1000 * (toc - tic)) + \"ms\")\n",
    "\n",
    "c = 0\n",
    "tic = time.time()\n",
    "\n",
    "for i in range(1000000):\n",
    "    c += a[i] * b[i]\n",
    "\n",
    "toc = time.time()\n",
    "\n",
    "print(c)\n",
    "print(\"For loop: \" + str(1000 * (toc - tic)) + \"ms\")"
   ]
  },
  {
   "cell_type": "code",
   "execution_count": 12,
   "id": "a1eb2dc9",
   "metadata": {},
   "outputs": [
    {
     "name": "stdout",
     "output_type": "stream",
     "text": [
      "[[14.]\n",
      " [32.]\n",
      " [50.]]\n",
      "[[14.]\n",
      " [32.]\n",
      " [50.]] \n",
      "\n",
      "[[14]\n",
      " [32]\n",
      " [50]]\n"
     ]
    }
   ],
   "source": [
    "import numpy as np\n",
    "# Define a 3x3 matrix\n",
    "A = np.array([[1, 2, 3],\n",
    "              [4, 5, 6],\n",
    "              [7, 8, 9]])\n",
    "\n",
    "# Define a 3x1 column vector\n",
    "B = np.array([[1],\n",
    "              [2],\n",
    "              [3]])\n",
    "\n",
    "# Define an empty 3x1 result vector\n",
    "C = np.zeros((3, 1))\n",
    "\n",
    "# Perform vector multiplication using a for loop\n",
    "for i in range(3):\n",
    "    for j in range(1):\n",
    "        for k in range(3):\n",
    "            C[i][j] += A[i][k] * B[k][j]\n",
    "        \n",
    "print(C, \"\\n\")\n",
    "\n",
    "C = np.dot(A, B)\n",
    "print(C)"
   ]
  },
  {
   "cell_type": "code",
   "execution_count": 38,
   "id": "d711a035",
   "metadata": {},
   "outputs": [
    {
     "name": "stdout",
     "output_type": "stream",
     "text": [
      "[[2.71828183e+00 7.38905610e+00 2.00855369e+01]\n",
      " [5.45981500e+01 1.48413159e+02 4.03428793e+02]\n",
      " [1.09663316e+03 2.98095799e+03 8.10308393e+03]] \n",
      "\n",
      "[[2.71828183e+00 7.38905610e+00 2.00855369e+01]\n",
      " [5.45981500e+01 1.48413159e+02 4.03428793e+02]\n",
      " [1.09663316e+03 2.98095799e+03 8.10308393e+03]] \n",
      "\n",
      "[[0.         0.69314718 1.09861229]\n",
      " [1.38629436 1.60943791 1.79175947]\n",
      " [1.94591015 2.07944154 2.19722458]] \n",
      "\n",
      "[[1 2 3]\n",
      " [4 5 6]\n",
      " [7 8 9]] \n",
      "\n",
      "[7 8 9] \n",
      "\n",
      "[[ 1  4  9]\n",
      " [16 25 36]\n",
      " [49 64 81]] \n",
      "\n",
      "[[1.         0.5        0.33333333]\n",
      " [0.25       0.2        0.16666667]\n",
      " [0.14285714 0.125      0.11111111]]\n"
     ]
    }
   ],
   "source": [
    "import numpy as np\n",
    "import math\n",
    "\n",
    "# Define a 3x3 matrix\n",
    "A = np.array([[1, 2, 3],\n",
    "              [4, 5, 6],\n",
    "              [7, 8, 9]])\n",
    "\n",
    "A_exp = np.zeros((3,3))\n",
    "\n",
    "for i in range(3):\n",
    "    for j in  range(3):\n",
    "        A_exp[i][j] = math.exp(A[i][j])\n",
    "    \n",
    "print(A_exp, \"\\n\")\n",
    "\n",
    "# Calculate the element-wise exponential of A using numpy.exp()\n",
    "A_exp = np.exp(A)\n",
    "print(A_exp, \"\\n\")\n",
    "\n",
    "# Calculate the element-wise logarithm of A using numpy.log()\n",
    "A_log = np.log(A)\n",
    "print(A_log, \"\\n\")\n",
    "\n",
    "# Calculate the element-wise absoulte of A using numpy.abs()\n",
    "A_abs = np.abs(A)\n",
    "print(A_abs, \"\\n\")\n",
    "\n",
    "# Calculate the element-wise max compare to reference number of A using numpy.max( , )\n",
    "A_max = np.max(A, 0)\n",
    "print(A_max, \"\\n\")\n",
    "\n",
    "# Calculate the element-wise square of A using numpy.square()\n",
    "A_square = np.square(A)\n",
    "print(A_square, \"\\n\")\n",
    "\n",
    "# Define a 3x3 matrix\n",
    "A = np.array([[1., 2., 3.],\n",
    "              [4., 5., 6.],\n",
    "              [7., 8., 9.]])\n",
    "\n",
    "\n",
    "# Calculate the element-wise inverse of A using numpy.reciprocal()\n",
    "A_inv = np.reciprocal(A)\n",
    "print(A_inv)"
   ]
  },
  {
   "cell_type": "code",
   "execution_count": null,
   "id": "febfb4e8",
   "metadata": {},
   "outputs": [],
   "source": []
  }
 ],
 "metadata": {
  "kernelspec": {
   "display_name": "Python 3 (ipykernel)",
   "language": "python",
   "name": "python3"
  },
  "language_info": {
   "codemirror_mode": {
    "name": "ipython",
    "version": 3
   },
   "file_extension": ".py",
   "mimetype": "text/x-python",
   "name": "python",
   "nbconvert_exporter": "python",
   "pygments_lexer": "ipython3",
   "version": "3.10.5"
  }
 },
 "nbformat": 4,
 "nbformat_minor": 5
}
