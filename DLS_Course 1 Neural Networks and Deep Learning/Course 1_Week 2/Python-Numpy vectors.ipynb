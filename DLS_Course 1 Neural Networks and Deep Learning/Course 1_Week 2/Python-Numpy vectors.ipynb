{
 "cells": [
  {
   "cell_type": "code",
   "execution_count": 1,
   "id": "7afdc372",
   "metadata": {},
   "outputs": [
    {
     "name": "stdout",
     "output_type": "stream",
     "text": [
      "[1 2 3 4]\n"
     ]
    }
   ],
   "source": [
    "import numpy as np\n",
    "\n",
    "a = np.array([1, 2, 3, 4])\n",
    "print(a)"
   ]
  },
  {
   "cell_type": "code",
   "execution_count": 3,
   "id": "1d5b32ae",
   "metadata": {},
   "outputs": [
    {
     "name": "stdout",
     "output_type": "stream",
     "text": [
      "250093.10903786987\n",
      "Vectorized version: 1.9381046295166016ms\n",
      "250093.10903788506\n",
      "For loop: 381.09469413757324ms\n"
     ]
    }
   ],
   "source": [
    "import time\n",
    "\n",
    "a = np.random.rand(1000000)\n",
    "b = np.random.rand(1000000)\n",
    "\n",
    "tic = time.time()\n",
    "c = np.dot(a, b)\n",
    "toc = time.time()\n",
    "\n",
    "print(c)\n",
    "print(\"Vectorized version: \" + str(1000 * (toc - tic)) + \"ms\")\n",
    "\n",
    "c = 0\n",
    "tic = time.time()\n",
    "\n",
    "for i in range(1000000):\n",
    "    c += a[i] * b[i]\n",
    "\n",
    "toc = time.time()\n",
    "\n",
    "print(c)\n",
    "print(\"For loop: \" + str(1000 * (toc - tic)) + \"ms\")"
   ]
  },
  {
   "cell_type": "code",
   "execution_count": 12,
   "id": "fc63f67c",
   "metadata": {},
   "outputs": [
    {
     "name": "stdout",
     "output_type": "stream",
     "text": [
      "[[14.]\n",
      " [32.]\n",
      " [50.]]\n",
      "[[14.]\n",
      " [32.]\n",
      " [50.]] \n",
      "\n",
      "[[14]\n",
      " [32]\n",
      " [50]]\n"
     ]
    }
   ],
   "source": [
    "import numpy as np\n",
    "# Define a 3x3 matrix\n",
    "A = np.array([[1, 2, 3],\n",
    "              [4, 5, 6],\n",
    "              [7, 8, 9]])\n",
    "\n",
    "# Define a 3x1 column vector\n",
    "B = np.array([[1],\n",
    "              [2],\n",
    "              [3]])\n",
    "\n",
    "# Define an empty 3x1 result vector\n",
    "C = np.zeros((3, 1))\n",
    "\n",
    "# Perform vector multiplication using a for loop\n",
    "for i in range(3):\n",
    "    for j in range(1):\n",
    "        for k in range(3):\n",
    "            C[i][j] += A[i][k] * B[k][j]\n",
    "        \n",
    "print(C, \"\\n\")\n",
    "\n",
    "C = np.dot(A, B)\n",
    "print(C)"
   ]
  },
  {
   "cell_type": "code",
   "execution_count": 38,
   "id": "99f3b8ca",
   "metadata": {},
   "outputs": [
    {
     "name": "stdout",
     "output_type": "stream",
     "text": [
      "[[2.71828183e+00 7.38905610e+00 2.00855369e+01]\n",
      " [5.45981500e+01 1.48413159e+02 4.03428793e+02]\n",
      " [1.09663316e+03 2.98095799e+03 8.10308393e+03]] \n",
      "\n",
      "[[2.71828183e+00 7.38905610e+00 2.00855369e+01]\n",
      " [5.45981500e+01 1.48413159e+02 4.03428793e+02]\n",
      " [1.09663316e+03 2.98095799e+03 8.10308393e+03]] \n",
      "\n",
      "[[0.         0.69314718 1.09861229]\n",
      " [1.38629436 1.60943791 1.79175947]\n",
      " [1.94591015 2.07944154 2.19722458]] \n",
      "\n",
      "[[1 2 3]\n",
      " [4 5 6]\n",
      " [7 8 9]] \n",
      "\n",
      "[7 8 9] \n",
      "\n",
      "[[ 1  4  9]\n",
      " [16 25 36]\n",
      " [49 64 81]] \n",
      "\n",
      "[[1.         0.5        0.33333333]\n",
      " [0.25       0.2        0.16666667]\n",
      " [0.14285714 0.125      0.11111111]]\n"
     ]
    }
   ],
   "source": [
    "import numpy as np\n",
    "import math\n",
    "\n",
    "# Define a 3x3 matrix\n",
    "A = np.array([[1, 2, 3],\n",
    "              [4, 5, 6],\n",
    "              [7, 8, 9]])\n",
    "\n",
    "A_exp = np.zeros((3,3))\n",
    "\n",
    "for i in range(3):\n",
    "    for j in  range(3):\n",
    "        A_exp[i][j] = math.exp(A[i][j])\n",
    "    \n",
    "print(A_exp, \"\\n\")\n",
    "\n",
    "# Calculate the element-wise exponential of A using numpy.exp()\n",
    "A_exp = np.exp(A)\n",
    "print(A_exp, \"\\n\")\n",
    "\n",
    "# Calculate the element-wise logarithm of A using numpy.log()\n",
    "A_log = np.log(A)\n",
    "print(A_log, \"\\n\")\n",
    "\n",
    "# Calculate the element-wise absoulte of A using numpy.abs()\n",
    "A_abs = np.abs(A)\n",
    "print(A_abs, \"\\n\")\n",
    "\n",
    "# Calculate the element-wise max compare to reference number of A using numpy.max( , )\n",
    "A_max = np.max(A, 0)\n",
    "print(A_max, \"\\n\")\n",
    "\n",
    "# Calculate the element-wise square of A using numpy.square()\n",
    "A_square = np.square(A)\n",
    "print(A_square, \"\\n\")\n",
    "\n",
    "# Define a 3x3 matrix\n",
    "A = np.array([[1., 2., 3.],\n",
    "              [4., 5., 6.],\n",
    "              [7., 8., 9.]])\n",
    "\n",
    "\n",
    "# Calculate the element-wise inverse of A using numpy.reciprocal()\n",
    "A_inv = np.reciprocal(A)\n",
    "print(A_inv)"
   ]
  },
  {
   "cell_type": "code",
   "execution_count": 49,
   "id": "a2a98a90",
   "metadata": {},
   "outputs": [
    {
     "name": "stdout",
     "output_type": "stream",
     "text": [
      "[[ 56.    0.    4.4   6.8]\n",
      " [  1.2 104.   52.    8. ]\n",
      " [  1.8 135.   99.    0.9]] \n",
      "\n",
      "[ 59.  239.  155.4  15.7]\n"
     ]
    }
   ],
   "source": [
    "# create a 3x3 matrix\n",
    "A = np.array([[56.0, 0.0, 4.4, 6.8],\n",
    "           [1.2, 104.0, 52.0, 8.0],\n",
    "           [1.8, 135.0, 99.0, 0.9]])\n",
    "\n",
    "print(A, \"\\n\")\n",
    "\n",
    "# sum the columns of the matrix\n",
    "column_sums = A.sum(axis=0)\n",
    "\n",
    "# print the result\n",
    "print(column_sums)"
   ]
  },
  {
   "cell_type": "code",
   "execution_count": 50,
   "id": "03f8e784",
   "metadata": {},
   "outputs": [
    {
     "name": "stdout",
     "output_type": "stream",
     "text": [
      "[[94.91525424  0.          2.83140283 43.31210191]\n",
      " [ 2.03389831 43.51464435 33.46203346 50.95541401]\n",
      " [ 3.05084746 56.48535565 63.70656371  5.73248408]]\n"
     ]
    }
   ],
   "source": [
    "percentage = 100 * A / column_sums.reshape(1,4)\n",
    "\n",
    "print(percentage)"
   ]
  },
  {
   "cell_type": "code",
   "execution_count": 51,
   "id": "d20cc728",
   "metadata": {},
   "outputs": [
    {
     "name": "stdout",
     "output_type": "stream",
     "text": [
      "[[101]\n",
      " [102]\n",
      " [103]\n",
      " [104]]\n"
     ]
    }
   ],
   "source": [
    "# Broadcasting Example\n",
    "\n",
    "A = np.array([[1],\n",
    "             [2],\n",
    "             [3],\n",
    "             [4]]) + 100\n",
    "\n",
    "print(A)"
   ]
  },
  {
   "cell_type": "code",
   "execution_count": 55,
   "id": "577b2dd1",
   "metadata": {},
   "outputs": [
    {
     "name": "stdout",
     "output_type": "stream",
     "text": [
      "[[101 202 303]\n",
      " [104 205 306]]\n"
     ]
    }
   ],
   "source": [
    "A = np.array([[1, 2 , 3],\n",
    "            [4, 5, 6]]) + np.array([[100, 200, 300]])\n",
    "\n",
    "print(A)"
   ]
  },
  {
   "cell_type": "code",
   "execution_count": 59,
   "id": "78187856",
   "metadata": {},
   "outputs": [
    {
     "name": "stdout",
     "output_type": "stream",
     "text": [
      "[[101 102 103]\n",
      " [204 205 206]]\n"
     ]
    }
   ],
   "source": [
    "A = np.array([[1, 2 , 3],\n",
    "            [4, 5, 6]]) + np.array([[100],\n",
    "                                   [200]])\n",
    "\n",
    "print(A)"
   ]
  },
  {
   "cell_type": "code",
   "execution_count": 68,
   "id": "64d73ea0",
   "metadata": {},
   "outputs": [],
   "source": [
    "import numpy as np\n",
    "\n",
    "a = np.random.randn(5) \n",
    "\n",
    "# a.shape = (5, )\n",
    "# \"rank 1 array\""
   ]
  },
  {
   "cell_type": "code",
   "execution_count": 69,
   "id": "8c458af9",
   "metadata": {},
   "outputs": [
    {
     "name": "stdout",
     "output_type": "stream",
     "text": [
      "[-0.77766038 -1.78755527 -0.80916195 -0.22299733 -0.10301571]\n"
     ]
    }
   ],
   "source": [
    "print(a)"
   ]
  },
  {
   "cell_type": "code",
   "execution_count": 70,
   "id": "f891cdce",
   "metadata": {},
   "outputs": [
    {
     "name": "stdout",
     "output_type": "stream",
     "text": [
      "(5,)\n"
     ]
    }
   ],
   "source": [
    "print(a.shape)"
   ]
  },
  {
   "cell_type": "code",
   "execution_count": 71,
   "id": "2c329897",
   "metadata": {},
   "outputs": [
    {
     "name": "stdout",
     "output_type": "stream",
     "text": [
      "[-0.77766038 -1.78755527 -0.80916195 -0.22299733 -0.10301571]\n"
     ]
    }
   ],
   "source": [
    "print(a.T)"
   ]
  },
  {
   "cell_type": "code",
   "execution_count": 72,
   "id": "26506078",
   "metadata": {},
   "outputs": [
    {
     "name": "stdout",
     "output_type": "stream",
     "text": [
      "4.515192606005895\n"
     ]
    }
   ],
   "source": [
    "print(np.dot(a, a.T))"
   ]
  },
  {
   "cell_type": "code",
   "execution_count": 73,
   "id": "263fcee5",
   "metadata": {},
   "outputs": [
    {
     "name": "stdout",
     "output_type": "stream",
     "text": [
      "[[-0.7457836 ]\n",
      " [-0.45104391]\n",
      " [-1.10356631]\n",
      " [ 0.41179486]\n",
      " [-0.59160331]]\n"
     ]
    }
   ],
   "source": [
    "a = np.random.randn(5, 1)\n",
    "\n",
    "print(a)"
   ]
  },
  {
   "cell_type": "code",
   "execution_count": 74,
   "id": "61a3a590",
   "metadata": {},
   "outputs": [
    {
     "name": "stdout",
     "output_type": "stream",
     "text": [
      "[[-0.7457836  -0.45104391 -1.10356631  0.41179486 -0.59160331]]\n"
     ]
    }
   ],
   "source": [
    "print(a.T)"
   ]
  },
  {
   "cell_type": "code",
   "execution_count": 75,
   "id": "c7ea8496",
   "metadata": {},
   "outputs": [
    {
     "name": "stdout",
     "output_type": "stream",
     "text": [
      "[[ 0.55619318  0.33638115  0.82302166 -0.30710986  0.44120805]\n",
      " [ 0.33638115  0.20344061  0.49775687 -0.18573757  0.26683907]\n",
      " [ 0.82302166  0.49775687  1.21785861 -0.45444294  0.65287348]\n",
      " [-0.30710986 -0.18573757 -0.45444294  0.16957501 -0.2436192 ]\n",
      " [ 0.44120805  0.26683907  0.65287348 -0.2436192   0.34999447]]\n"
     ]
    }
   ],
   "source": [
    "print(np.dot(a, a.T))"
   ]
  },
  {
   "cell_type": "code",
   "execution_count": 78,
   "id": "f8164a76",
   "metadata": {},
   "outputs": [
    {
     "name": "stdout",
     "output_type": "stream",
     "text": [
      "(2, 2, 1)\n"
     ]
    }
   ],
   "source": [
    "import numpy as np\n",
    "\n",
    "x = np.array([[[1], [2]], [[3], [4]]])\n",
    "print(x.shape)  # Output: (2, 2, 1)"
   ]
  }
 ],
 "metadata": {
  "kernelspec": {
   "display_name": "Python 3 (ipykernel)",
   "language": "python",
   "name": "python3"
  },
  "language_info": {
   "codemirror_mode": {
    "name": "ipython",
    "version": 3
   },
   "file_extension": ".py",
   "mimetype": "text/x-python",
   "name": "python",
   "nbconvert_exporter": "python",
   "pygments_lexer": "ipython3",
   "version": "3.10.5"
  }
 },
 "nbformat": 4,
 "nbformat_minor": 5
}
